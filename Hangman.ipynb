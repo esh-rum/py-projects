{
  "nbformat": 4,
  "nbformat_minor": 0,
  "metadata": {
    "colab": {
      "provenance": [],
      "authorship_tag": "ABX9TyM3z3pC5VRQpx6YWuhGJfAL",
      "include_colab_link": true
    },
    "kernelspec": {
      "name": "python3",
      "display_name": "Python 3"
    },
    "language_info": {
      "name": "python"
    }
  },
  "cells": [
    {
      "cell_type": "markdown",
      "metadata": {
        "id": "view-in-github",
        "colab_type": "text"
      },
      "source": [
        "<a href=\"https://colab.research.google.com/github/esh-rum/py-projects/blob/main/Hangman.ipynb\" target=\"_parent\"><img src=\"https://colab.research.google.com/assets/colab-badge.svg\" alt=\"Open In Colab\"/></a>"
      ]
    },
    {
      "cell_type": "code",
      "execution_count": null,
      "metadata": {
        "colab": {
          "base_uri": "https://localhost:8080/"
        },
        "id": "CyXc51JH8AuP",
        "outputId": "cbe948db-93c5-42ac-8257-3471bbff309a"
      },
      "outputs": [
        {
          "output_type": "stream",
          "name": "stdout",
          "text": [
            "\n",
            "Current word:  - - - - - - -\n",
            "Guess a letter: A\n",
            "You have 6 chances left. \n",
            "You have used these letters: A\n",
            "\n",
            "Current word:  - - - - - - -\n",
            "Guess a letter: M\n",
            "You have 5 chances left. \n",
            "You have used these letters: M A\n",
            "\n",
            "Current word:  - - - - - - -\n",
            "Guess a letter: S\n",
            "You have 4 chances left. \n",
            "You have used these letters: M S A\n",
            "\n",
            "Current word:  - - - - - - -\n",
            "Guess a letter: E\n",
            "You have 4 chances left. \n",
            "You have used these letters: M S E A\n",
            "\n",
            "Current word:  - - - - E - -\n",
            "Guess a letter: O\n",
            "You have 4 chances left. \n",
            "You have used these letters: E O S M A\n",
            "\n",
            "Current word:  - O - - E - -\n",
            "Guess a letter: P\n",
            "You have 3 chances left. \n",
            "You have used these letters: E O P S M A\n",
            "\n",
            "Current word:  - O - - E - -\n",
            "Guess a letter: H\n",
            "You have 2 chances left. \n",
            "You have used these letters: E O P S M H A\n",
            "\n",
            "Current word:  - O - - E - -\n",
            "Guess a letter: G\n",
            "You have 1 chances left. \n",
            "You have used these letters: G E O P S M H A\n",
            "\n",
            "Current word:  - O - - E - -\n",
            "Guess a letter: N\n",
            "You have 0 chances left. \n",
            "You have used these letters: G E O P S M H N A\n",
            "\n",
            "You Died!, the word was: CORRECT\n"
          ]
        }
      ],
      "source": [
        "import random\n",
        "from google.colab import files\n",
        "from words import words\n",
        "import string\n",
        "\n",
        "def get_valid_words(words):\n",
        "    word = random.choice(words)\n",
        "    while '-' in word or ' ' in word:\n",
        "        word = random.choice(words)\n",
        "\n",
        "    return word.upper()\n",
        "\n",
        "def hangman():\n",
        "    word = get_valid_words(words)\n",
        "    word_letters = set(word)                # letters in the words\n",
        "    alphabet = set(string.ascii_uppercase)\n",
        "    used_letters = set()                    # what the user has guessed\n",
        "\n",
        "    lives = len(word)\n",
        "\n",
        "    while lives > 0:\n",
        "        word_list = [letter if letter in used_letters else '-' for letter in word]\n",
        "        print (\"\\nCurrent word: \", \" \".join(word_list))\n",
        "\n",
        "        user_letter = input(\"Guess a letter: \").upper()\n",
        "\n",
        "        if user_letter in alphabet - used_letters:          # if user_letter in alphabet and user_letter not in used_letters:\n",
        "            used_letters.add(user_letter)\n",
        "            if user_letter in word_letters:\n",
        "                word_letters.remove(user_letter)\n",
        "            else:\n",
        "                lives = lives - 1\n",
        "\n",
        "        elif user_letter in used_letters:\n",
        "            print (\"You have already guessed this letter!\")\n",
        "\n",
        "        else:\n",
        "            print (\"Not a valid letter!\")\n",
        "\n",
        "        print (\"You have\", lives, \"chances left.\", \"\\nYou have used these letters:\", \" \".join(used_letters))\n",
        "\n",
        "    if lives == 0:\n",
        "        print (\"\\nYou Died!, the word was:\", word)\n",
        "    else:\n",
        "        print (\"\\nYayy!! your guessed the word:\", word)\n",
        "\n",
        "\n",
        "\n",
        "hangman()"
      ]
    }
  ]
}